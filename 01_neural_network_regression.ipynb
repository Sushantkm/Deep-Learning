{
  "nbformat": 4,
  "nbformat_minor": 0,
  "metadata": {
    "colab": {
      "provenance": [],
      "authorship_tag": "ABX9TyM4q7pGiGdB+9Z1JyY3jUuy",
      "include_colab_link": true
    },
    "kernelspec": {
      "name": "python3",
      "display_name": "Python 3"
    },
    "language_info": {
      "name": "python"
    }
  },
  "cells": [
    {
      "cell_type": "markdown",
      "metadata": {
        "id": "view-in-github",
        "colab_type": "text"
      },
      "source": [
        "<a href=\"https://colab.research.google.com/github/Sushantkm/Deep-Learning/blob/main/01_neural_network_regression.ipynb\" target=\"_parent\"><img src=\"https://colab.research.google.com/assets/colab-badge.svg\" alt=\"Open In Colab\"/></a>"
      ]
    },
    {
      "cell_type": "markdown",
      "source": [
        "# Introduction to Regression with Neural Networks in TensorFlow\n",
        "\n",
        "There are many definitions for a regression problem but in our case, we're going to simplify it: predicting a numerical variable based on some other combination of variables, even shorter... predicting a number."
      ],
      "metadata": {
        "id": "1vXPqUU6iU0l"
      }
    },
    {
      "cell_type": "code",
      "source": [
        "# Import TensorFlow\n",
        "import tensorflow as tf\n",
        "print(tf.__version__)"
      ],
      "metadata": {
        "colab": {
          "base_uri": "https://localhost:8080/"
        },
        "id": "FHyIpkKPmlZN",
        "outputId": "6f9f0962-8e87-49e9-95ff-18c22805329e"
      },
      "execution_count": 123,
      "outputs": [
        {
          "output_type": "stream",
          "name": "stdout",
          "text": [
            "2.15.0\n"
          ]
        }
      ]
    },
    {
      "cell_type": "markdown",
      "source": [
        "## Creating data to view and fit"
      ],
      "metadata": {
        "id": "AHNFWvXFmyA9"
      }
    },
    {
      "cell_type": "code",
      "source": [
        "import numpy as np\n",
        "import matplotlib.pyplot as plt\n",
        "\n",
        "# Create features\n",
        "X = np.array([-7.0, -4.0, -1.0, 2.0, 5.0, 8.0, 11.0, 14.0])\n",
        "\n",
        "# Create labels\n",
        "y = np.array([3.0, 6.0, 9.0, 12.0, 15.0, 18.0, 21.0, 24.0])\n",
        "\n",
        "# Visualizie it\n",
        "plt.scatter(X,y)"
      ],
      "metadata": {
        "colab": {
          "base_uri": "https://localhost:8080/",
          "height": 452
        },
        "id": "ank9RwOznADk",
        "outputId": "adcda3eb-73d2-4fe9-e025-f299f62497a2"
      },
      "execution_count": 124,
      "outputs": [
        {
          "output_type": "execute_result",
          "data": {
            "text/plain": [
              "<matplotlib.collections.PathCollection at 0x7ab138d3d090>"
            ]
          },
          "metadata": {},
          "execution_count": 124
        },
        {
          "output_type": "display_data",
          "data": {
            "text/plain": [
              "<Figure size 640x480 with 1 Axes>"
            ],
            "image/png": "[encoded data removed]"
          },
          "metadata": {}
        }
      ]
    },
    {
      "cell_type": "code",
      "source": [
        "y == X + 10"
      ],
      "metadata": {
        "colab": {
          "base_uri": "https://localhost:8080/"
        },
        "id": "JDl5puFlnXmT",
        "outputId": "a091a662-4c44-4c2e-8f0c-6aff1f6c4795"
      },
      "execution_count": 125,
      "outputs": [
        {
          "output_type": "execute_result",
          "data": {
            "text/plain": [
              "array([ True,  True,  True,  True,  True,  True,  True,  True])"
            ]
          },
          "metadata": {},
          "execution_count": 125
        }
      ]
    },
    {
      "cell_type": "markdown",
      "source": [
        "#  Input and Output shapes"
      ],
      "metadata": {
        "id": "aeoBkQbruqXH"
      }
    },
    {
      "cell_type": "code",
      "source": [
        "# Create a demo tensor for our housing price prediction problem\n",
        "house_info = tf.constant([\"bedroom\", \"bathroom\", \"garage\"])\n",
        "house_price = tf.constant([939700])\n",
        "house_info, house_price"
      ],
      "metadata": {
        "colab": {
          "base_uri": "https://localhost:8080/"
        },
        "id": "S63Xk8r_ydlo",
        "outputId": "6e12ece9-9235-4ebd-bc92-506e938db389"
      },
      "execution_count": 126,
      "outputs": [
        {
          "output_type": "execute_result",
          "data": {
            "text/plain": [
              "(<tf.Tensor: shape=(3,), dtype=string, numpy=array([b'bedroom', b'bathroom', b'garage'], dtype=object)>,\n",
              " <tf.Tensor: shape=(1,), dtype=int32, numpy=array([939700], dtype=int32)>)"
            ]
          },
          "metadata": {},
          "execution_count": 126
        }
      ]
    },
    {
      "cell_type": "code",
      "source": [
        "X[0], y[0]"
      ],
      "metadata": {
        "colab": {
          "base_uri": "https://localhost:8080/"
        },
        "id": "UGk3SY6Ozth0",
        "outputId": "41cc1701-6c16-428b-a445-807a785edbfc"
      },
      "execution_count": 127,
      "outputs": [
        {
          "output_type": "execute_result",
          "data": {
            "text/plain": [
              "(-7.0, 3.0)"
            ]
          },
          "metadata": {},
          "execution_count": 127
        }
      ]
    },
    {
      "cell_type": "code",
      "source": [
        "X[1], y[1]"
      ],
      "metadata": {
        "colab": {
          "base_uri": "https://localhost:8080/"
        },
        "id": "LyUnSIJ0zxWS",
        "outputId": "c25c296e-ef69-4148-f4f9-a338d5ad1338"
      },
      "execution_count": 128,
      "outputs": [
        {
          "output_type": "execute_result",
          "data": {
            "text/plain": [
              "(-4.0, 6.0)"
            ]
          },
          "metadata": {},
          "execution_count": 128
        }
      ]
    },
    {
      "cell_type": "code",
      "source": [
        "input_shape = X[0].shape\n",
        "output_shape = y[0].shape\n",
        "input_shape, output_shape"
      ],
      "metadata": {
        "colab": {
          "base_uri": "https://localhost:8080/"
        },
        "id": "-xJ30gxmyeV0",
        "outputId": "22db421e-b3ba-4f73-cca8-31e273cf92ef"
      },
      "execution_count": 129,
      "outputs": [
        {
          "output_type": "execute_result",
          "data": {
            "text/plain": [
              "((), ())"
            ]
          },
          "metadata": {},
          "execution_count": 129
        }
      ]
    },
    {
      "cell_type": "code",
      "source": [
        "X[0].ndim"
      ],
      "metadata": {
        "colab": {
          "base_uri": "https://localhost:8080/"
        },
        "id": "D9JgBgwEzcOR",
        "outputId": "4b28767d-af99-4fa4-97f2-e64c2dfd3e76"
      },
      "execution_count": 130,
      "outputs": [
        {
          "output_type": "execute_result",
          "data": {
            "text/plain": [
              "0"
            ]
          },
          "metadata": {},
          "execution_count": 130
        }
      ]
    },
    {
      "cell_type": "code",
      "source": [
        "# Turn our Numpy arrays into tensors\n",
        "X = tf.cast(tf.constant(X), dtype=tf.float32)\n",
        "y = tf.cast(tf.constant(y), dtype=tf.float32)\n",
        "X, y"
      ],
      "metadata": {
        "colab": {
          "base_uri": "https://localhost:8080/"
        },
        "id": "_P6ke3Jg0F8-",
        "outputId": "84bfe4e3-e06e-4983-e49c-4f4682fbb631"
      },
      "execution_count": 131,
      "outputs": [
        {
          "output_type": "execute_result",
          "data": {
            "text/plain": [
              "(<tf.Tensor: shape=(8,), dtype=float32, numpy=array([-7., -4., -1.,  2.,  5.,  8., 11., 14.], dtype=float32)>,\n",
              " <tf.Tensor: shape=(8,), dtype=float32, numpy=array([ 3.,  6.,  9., 12., 15., 18., 21., 24.], dtype=float32)>)"
            ]
          },
          "metadata": {},
          "execution_count": 131
        }
      ]
    },
    {
      "cell_type": "code",
      "source": [
        "input_shape = X[0].shape\n",
        "output_shape = y[0].shape\n",
        "input_shape, output_shape"
      ],
      "metadata": {
        "colab": {
          "base_uri": "https://localhost:8080/"
        },
        "id": "c0rj_yIi0pyS",
        "outputId": "8335224c-ebde-4d1c-b64a-cef122f4320d"
      },
      "execution_count": 132,
      "outputs": [
        {
          "output_type": "execute_result",
          "data": {
            "text/plain": [
              "(TensorShape([]), TensorShape([]))"
            ]
          },
          "metadata": {},
          "execution_count": 132
        }
      ]
    },
    {
      "cell_type": "code",
      "source": [
        "plt.scatter(X, y)"
      ],
      "metadata": {
        "colab": {
          "base_uri": "https://localhost:8080/",
          "height": 452
        },
        "id": "84g5_TCQ0s18",
        "outputId": "30a31c05-c5c3-49fc-8936-5ccf643a7777"
      },
      "execution_count": 133,
      "outputs": [
        {
          "output_type": "execute_result",
          "data": {
            "text/plain": [
              "<matplotlib.collections.PathCollection at 0x7ab138df30a0>"
            ]
          },
          "metadata": {},
          "execution_count": 133
        },
        {
          "output_type": "display_data",
          "data": {
            "text/plain": [
              "<Figure size 640x480 with 1 Axes>"
            ],
            "image/png": "[encoded data removed]"
          },
          "metadata": {}
        }
      ]
    },
    {
      "cell_type": "markdown",
      "source": [
        "# Steps in modelling with TensorFlow\n",
        "\n",
        "1. **Creating a model** - define the input and output layers, as well as the hidden layers of deep a learning model.\n",
        "2. **Compiling a model** - define the loss function (in other words, the function which tells model how wrong it is) and the optimizer (tells our model how to improve the patterns its learning) and evaluation metrics (what we can use to interpret the performance of our model).\n",
        "3. **Fitting a model** - letting the model try to find patterns between X and y (features and labels)."
      ],
      "metadata": {
        "id": "xwJrSdC202sH"
      }
    },
    {
      "cell_type": "code",
      "source": [
        "# Set random seed\n",
        "tf.random.set_seed(42)\n",
        "\n",
        "# 1. Create a model using the Sequential API\n",
        "model = tf.keras.Sequential([\n",
        "    tf.keras.layers.Dense(1, input_shape=(1,))\n",
        "])\n",
        "\n",
        "# 2. Compile the model\n",
        "model.compile(loss=tf.keras.losses.mae, # mae = mean absolute error\n",
        "              optimizer=tf.keras.optimizers.SGD(),\n",
        "              metrics=[\"mae\"]) # short for stochastic gradient descent\n",
        "# 3. Fit the model\n",
        "model.fit(X, y, epochs=5)"
      ],
      "metadata": {
        "colab": {
          "base_uri": "https://localhost:8080/"
        },
        "id": "JNjvsyav5Apb",
        "outputId": "30bd5f39-69ca-4308-fa43-10f97bf729e5"
      },
      "execution_count": 134,
      "outputs": [
        {
          "output_type": "stream",
          "name": "stdout",
          "text": [
            "Epoch 1/5\n",
            "1/1 [==============================] - 0s 344ms/step - loss: 14.5451 - mae: 14.5451\n",
            "Epoch 2/5\n",
            "1/1 [==============================] - 0s 10ms/step - loss: 14.4126 - mae: 14.4126\n",
            "Epoch 3/5\n",
            "1/1 [==============================] - 0s 12ms/step - loss: 14.2801 - mae: 14.2801\n",
            "Epoch 4/5\n",
            "1/1 [==============================] - 0s 15ms/step - loss: 14.1476 - mae: 14.1476\n",
            "Epoch 5/5\n",
            "1/1 [==============================] - 0s 18ms/step - loss: 14.0151 - mae: 14.0151\n"
          ]
        },
        {
          "output_type": "execute_result",
          "data": {
            "text/plain": [
              "<keras.src.callbacks.History at 0x7ab145738d00>"
            ]
          },
          "metadata": {},
          "execution_count": 134
        }
      ]
    },
    {
      "cell_type": "code",
      "source": [
        "# Check out X and Y\n",
        "X, y"
      ],
      "metadata": {
        "colab": {
          "base_uri": "https://localhost:8080/"
        },
        "id": "YnV4S4qMMpPh",
        "outputId": "5e496bf0-cf84-43b2-8ee8-b87ffe3af21d"
      },
      "execution_count": 135,
      "outputs": [
        {
          "output_type": "execute_result",
          "data": {
            "text/plain": [
              "(<tf.Tensor: shape=(8,), dtype=float32, numpy=array([-7., -4., -1.,  2.,  5.,  8., 11., 14.], dtype=float32)>,\n",
              " <tf.Tensor: shape=(8,), dtype=float32, numpy=array([ 3.,  6.,  9., 12., 15., 18., 21., 24.], dtype=float32)>)"
            ]
          },
          "metadata": {},
          "execution_count": 135
        }
      ]
    },
    {
      "cell_type": "code",
      "source": [
        "# Try and make a prediction using our model\n",
        "y_pred = model.predict([17.0])\n",
        "y_pred"
      ],
      "metadata": {
        "colab": {
          "base_uri": "https://localhost:8080/"
        },
        "id": "zWWHKlVmXsSX",
        "outputId": "7d27c712-3ff5-4f8a-d8ac-a90d2532c8fa"
      },
      "execution_count": 136,
      "outputs": [
        {
          "output_type": "stream",
          "name": "stdout",
          "text": [
            "1/1 [==============================] - 0s 98ms/step\n"
          ]
        },
        {
          "output_type": "execute_result",
          "data": {
            "text/plain": [
              "array([[-2.0511754]], dtype=float32)"
            ]
          },
          "metadata": {},
          "execution_count": 136
        }
      ]
    },
    {
      "cell_type": "markdown",
      "source": [
        "# Improving our model\n",
        "\n",
        "We can improve our model, by altering the steps we took to create the model.\n",
        "\n",
        "1. **Creating a model** - here we might add more layers, increase the number of hidden units (all called neurons) within each hidden layers, change the activation function of each layer.\n",
        "2. **Compiling a model** - here we might change the optimization function or perhaps the **learning rate** of the optimization function.\n",
        "3. **Fitting a model** - here we might fit a model for more **epochs** (leave it training for longer) or on more data (give the model more examples to learn from).\n",
        "\n",
        "**Note:** Learning rate is the most important hyper parameter."
      ],
      "metadata": {
        "id": "5iA-3uFJYVGv"
      }
    },
    {
      "cell_type": "code",
      "source": [
        "# Let's rebuild our model\n",
        "\n",
        "# 1. Create the model\n",
        "model = tf.keras.Sequential([\n",
        "    tf.keras.layers.Dense(1, input_shape=(1,))\n",
        "])\n",
        "\n",
        "# 2. Compile the model\n",
        "model.compile(loss=tf.keras.losses.mae,\n",
        "              optimizer=tf.keras.optimizers.SGD(),\n",
        "              metrics=[\"mae\"])\n",
        "\n",
        "# 3. Fit the model (this time we'll train for longer)\n",
        "model.fit(X, y, epochs=100)"
      ],
      "metadata": {
        "colab": {
          "base_uri": "https://localhost:8080/"
        },
        "id": "ix6P9qpFY5LA",
        "outputId": "8d0d1944-2355-454a-f9ca-cecef5f46878"
      },
      "execution_count": 137,
      "outputs": [
        {
          "output_type": "stream",
          "name": "stdout",
          "text": [
            "Epoch 1/100\n",
            "1/1 [==============================] - 0s 475ms/step - loss: 20.3157 - mae: 20.3157\n",
            "Epoch 2/100\n",
            "1/1 [==============================] - 0s 18ms/step - loss: 20.0345 - mae: 20.0345\n",
            "Epoch 3/100\n",
            "1/1 [==============================] - 0s 15ms/step - loss: 19.7532 - mae: 19.7532\n",
            "Epoch 4/100\n",
            "1/1 [==============================] - 0s 10ms/step - loss: 19.4720 - mae: 19.4720\n",
            "Epoch 5/100\n",
            "1/1 [==============================] - 0s 12ms/step - loss: 19.1908 - mae: 19.1908\n",
            "Epoch 6/100\n",
            "1/1 [==============================] - 0s 14ms/step - loss: 18.9095 - mae: 18.9095\n",
            "Epoch 7/100\n",
            "1/1 [==============================] - 0s 15ms/step - loss: 18.6283 - mae: 18.6283\n",
            "Epoch 8/100\n",
            "1/1 [==============================] - 0s 14ms/step - loss: 18.3470 - mae: 18.3470\n",
            "Epoch 9/100\n",
            "1/1 [==============================] - 0s 10ms/step - loss: 18.0657 - mae: 18.0657\n",
            "Epoch 10/100\n",
            "1/1 [==============================] - 0s 9ms/step - loss: 17.7845 - mae: 17.7845\n",
            "Epoch 11/100\n",
            "1/1 [==============================] - 0s 10ms/step - loss: 17.5033 - mae: 17.5033\n",
            "Epoch 12/100\n",
            "1/1 [==============================] - 0s 10ms/step - loss: 17.2220 - mae: 17.2220\n",
            "Epoch 13/100\n",
            "1/1 [==============================] - 0s 10ms/step - loss: 16.9408 - mae: 16.9408\n",
            "Epoch 14/100\n",
            "1/1 [==============================] - 0s 9ms/step - loss: 16.6595 - mae: 16.6595\n",
            "Epoch 15/100\n",
            "1/1 [==============================] - 0s 12ms/step - loss: 16.3782 - mae: 16.3782\n",
            "Epoch 16/100\n",
            "1/1 [==============================] - 0s 11ms/step - loss: 16.0970 - mae: 16.0970\n",
            "Epoch 17/100\n",
            "1/1 [==============================] - 0s 11ms/step - loss: 15.8157 - mae: 15.8157\n",
            "Epoch 18/100\n",
            "1/1 [==============================] - 0s 13ms/step - loss: 15.5345 - mae: 15.5345\n",
            "Epoch 19/100\n",
            "1/1 [==============================] - 0s 13ms/step - loss: 15.2532 - mae: 15.2532\n",
            "Epoch 20/100\n",
            "1/1 [==============================] - 0s 10ms/step - loss: 14.9720 - mae: 14.9720\n",
            "Epoch 21/100\n",
            "1/1 [==============================] - 0s 9ms/step - loss: 14.7188 - mae: 14.7188\n",
            "Epoch 22/100\n",
            "1/1 [==============================] - 0s 12ms/step - loss: 14.5863 - mae: 14.5863\n",
            "Epoch 23/100\n",
            "1/1 [==============================] - 0s 10ms/step - loss: 14.4538 - mae: 14.4538\n",
            "Epoch 24/100\n",
            "1/1 [==============================] - 0s 10ms/step - loss: 14.3213 - mae: 14.3213\n",
            "Epoch 25/100\n",
            "1/1 [==============================] - 0s 10ms/step - loss: 14.1888 - mae: 14.1888\n",
            "Epoch 26/100\n",
            "1/1 [==============================] - 0s 12ms/step - loss: 14.0563 - mae: 14.0563\n",
            "Epoch 27/100\n",
            "1/1 [==============================] - 0s 11ms/step - loss: 13.9238 - mae: 13.9238\n",
            "Epoch 28/100\n",
            "1/1 [==============================] - 0s 9ms/step - loss: 13.7913 - mae: 13.7913\n",
            "Epoch 29/100\n",
            "1/1 [==============================] - 0s 10ms/step - loss: 13.6588 - mae: 13.6588\n",
            "Epoch 30/100\n",
            "1/1 [==============================] - 0s 9ms/step - loss: 13.5263 - mae: 13.5263\n",
            "Epoch 31/100\n",
            "1/1 [==============================] - 0s 10ms/step - loss: 13.3938 - mae: 13.3938\n",
            "Epoch 32/100\n",
            "1/1 [==============================] - 0s 9ms/step - loss: 13.2613 - mae: 13.2613\n",
            "Epoch 33/100\n",
            "1/1 [==============================] - 0s 9ms/step - loss: 13.1288 - mae: 13.1288\n",
            "Epoch 34/100\n",
            "1/1 [==============================] - 0s 8ms/step - loss: 12.9963 - mae: 12.9963\n",
            "Epoch 35/100\n",
            "1/1 [==============================] - 0s 17ms/step - loss: 12.8638 - mae: 12.8638\n",
            "Epoch 36/100\n",
            "1/1 [==============================] - 0s 15ms/step - loss: 12.7313 - mae: 12.7313\n",
            "Epoch 37/100\n",
            "1/1 [==============================] - 0s 12ms/step - loss: 12.5988 - mae: 12.5988\n",
            "Epoch 38/100\n",
            "1/1 [==============================] - 0s 13ms/step - loss: 12.4663 - mae: 12.4663\n",
            "Epoch 39/100\n",
            "1/1 [==============================] - 0s 12ms/step - loss: 12.3338 - mae: 12.3338\n",
            "Epoch 40/100\n",
            "1/1 [==============================] - 0s 11ms/step - loss: 12.2013 - mae: 12.2013\n",
            "Epoch 41/100\n",
            "1/1 [==============================] - 0s 10ms/step - loss: 12.0688 - mae: 12.0688\n",
            "Epoch 42/100\n",
            "1/1 [==============================] - 0s 10ms/step - loss: 11.9363 - mae: 11.9363\n",
            "Epoch 43/100\n",
            "1/1 [==============================] - 0s 9ms/step - loss: 11.8038 - mae: 11.8038\n",
            "Epoch 44/100\n",
            "1/1 [==============================] - 0s 11ms/step - loss: 11.6713 - mae: 11.6713\n",
            "Epoch 45/100\n",
            "1/1 [==============================] - 0s 9ms/step - loss: 11.5388 - mae: 11.5388\n",
            "Epoch 46/100\n",
            "1/1 [==============================] - 0s 11ms/step - loss: 11.4063 - mae: 11.4063\n",
            "Epoch 47/100\n",
            "1/1 [==============================] - 0s 9ms/step - loss: 11.2738 - mae: 11.2738\n",
            "Epoch 48/100\n",
            "1/1 [==============================] - 0s 11ms/step - loss: 11.1413 - mae: 11.1413\n",
            "Epoch 49/100\n",
            "1/1 [==============================] - 0s 17ms/step - loss: 11.0088 - mae: 11.0088\n",
            "Epoch 50/100\n",
            "1/1 [==============================] - 0s 14ms/step - loss: 10.8763 - mae: 10.8763\n",
            "Epoch 51/100\n",
            "1/1 [==============================] - 0s 15ms/step - loss: 10.7438 - mae: 10.7438\n",
            "Epoch 52/100\n",
            "1/1 [==============================] - 0s 15ms/step - loss: 10.6113 - mae: 10.6113\n",
            "Epoch 53/100\n",
            "1/1 [==============================] - 0s 15ms/step - loss: 10.4788 - mae: 10.4788\n",
            "Epoch 54/100\n",
            "1/1 [==============================] - 0s 13ms/step - loss: 10.3463 - mae: 10.3463\n",
            "Epoch 55/100\n",
            "1/1 [==============================] - 0s 15ms/step - loss: 10.2138 - mae: 10.2138\n",
            "Epoch 56/100\n",
            "1/1 [==============================] - 0s 12ms/step - loss: 10.0813 - mae: 10.0813\n",
            "Epoch 57/100\n",
            "1/1 [==============================] - 0s 13ms/step - loss: 9.9488 - mae: 9.9488\n",
            "Epoch 58/100\n",
            "1/1 [==============================] - 0s 12ms/step - loss: 9.8163 - mae: 9.8163\n",
            "Epoch 59/100\n",
            "1/1 [==============================] - 0s 12ms/step - loss: 9.6838 - mae: 9.6838\n",
            "Epoch 60/100\n",
            "1/1 [==============================] - 0s 16ms/step - loss: 9.5513 - mae: 9.5513\n",
            "Epoch 61/100\n",
            "1/1 [==============================] - 0s 12ms/step - loss: 9.4188 - mae: 9.4188\n",
            "Epoch 62/100\n",
            "1/1 [==============================] - 0s 15ms/step - loss: 9.2863 - mae: 9.2863\n",
            "Epoch 63/100\n",
            "1/1 [==============================] - 0s 13ms/step - loss: 9.1538 - mae: 9.1538\n",
            "Epoch 64/100\n",
            "1/1 [==============================] - 0s 15ms/step - loss: 9.0213 - mae: 9.0213\n",
            "Epoch 65/100\n",
            "1/1 [==============================] - 0s 16ms/step - loss: 8.8888 - mae: 8.8888\n",
            "Epoch 66/100\n",
            "1/1 [==============================] - 0s 14ms/step - loss: 8.7563 - mae: 8.7563\n",
            "Epoch 67/100\n",
            "1/1 [==============================] - 0s 15ms/step - loss: 8.6238 - mae: 8.6238\n",
            "Epoch 68/100\n",
            "1/1 [==============================] - 0s 15ms/step - loss: 8.4913 - mae: 8.4913\n",
            "Epoch 69/100\n",
            "1/1 [==============================] - 0s 14ms/step - loss: 8.3588 - mae: 8.3588\n",
            "Epoch 70/100\n",
            "1/1 [==============================] - 0s 13ms/step - loss: 8.2263 - mae: 8.2263\n",
            "Epoch 71/100\n",
            "1/1 [==============================] - 0s 11ms/step - loss: 8.0938 - mae: 8.0938\n",
            "Epoch 72/100\n",
            "1/1 [==============================] - 0s 15ms/step - loss: 7.9613 - mae: 7.9613\n",
            "Epoch 73/100\n",
            "1/1 [==============================] - 0s 19ms/step - loss: 7.8288 - mae: 7.8288\n",
            "Epoch 74/100\n",
            "1/1 [==============================] - 0s 20ms/step - loss: 7.6963 - mae: 7.6963\n",
            "Epoch 75/100\n",
            "1/1 [==============================] - 0s 14ms/step - loss: 7.5638 - mae: 7.5638\n",
            "Epoch 76/100\n",
            "1/1 [==============================] - 0s 13ms/step - loss: 7.4313 - mae: 7.4313\n",
            "Epoch 77/100\n",
            "1/1 [==============================] - 0s 19ms/step - loss: 7.2988 - mae: 7.2988\n",
            "Epoch 78/100\n",
            "1/1 [==============================] - 0s 19ms/step - loss: 7.1663 - mae: 7.1663\n",
            "Epoch 79/100\n",
            "1/1 [==============================] - 0s 16ms/step - loss: 7.0338 - mae: 7.0338\n",
            "Epoch 80/100\n",
            "1/1 [==============================] - 0s 13ms/step - loss: 6.9450 - mae: 6.9450\n",
            "Epoch 81/100\n",
            "1/1 [==============================] - 0s 11ms/step - loss: 6.9394 - mae: 6.9394\n",
            "Epoch 82/100\n",
            "1/1 [==============================] - 0s 13ms/step - loss: 6.9338 - mae: 6.9338\n",
            "Epoch 83/100\n",
            "1/1 [==============================] - 0s 15ms/step - loss: 6.9281 - mae: 6.9281\n",
            "Epoch 84/100\n",
            "1/1 [==============================] - 0s 11ms/step - loss: 6.9225 - mae: 6.9225\n",
            "Epoch 85/100\n",
            "1/1 [==============================] - 0s 14ms/step - loss: 6.9169 - mae: 6.9169\n",
            "Epoch 86/100\n",
            "1/1 [==============================] - 0s 16ms/step - loss: 6.9113 - mae: 6.9113\n",
            "Epoch 87/100\n",
            "1/1 [==============================] - 0s 15ms/step - loss: 6.9056 - mae: 6.9056\n",
            "Epoch 88/100\n",
            "1/1 [==============================] - 0s 15ms/step - loss: 6.9000 - mae: 6.9000\n",
            "Epoch 89/100\n",
            "1/1 [==============================] - 0s 16ms/step - loss: 6.8944 - mae: 6.8944\n",
            "Epoch 90/100\n",
            "1/1 [==============================] - 0s 17ms/step - loss: 6.8888 - mae: 6.8888\n",
            "Epoch 91/100\n",
            "1/1 [==============================] - 0s 21ms/step - loss: 6.8831 - mae: 6.8831\n",
            "Epoch 92/100\n",
            "1/1 [==============================] - 0s 15ms/step - loss: 6.8775 - mae: 6.8775\n",
            "Epoch 93/100\n",
            "1/1 [==============================] - 0s 15ms/step - loss: 6.8719 - mae: 6.8719\n",
            "Epoch 94/100\n",
            "1/1 [==============================] - 0s 18ms/step - loss: 6.8663 - mae: 6.8663\n",
            "Epoch 95/100\n",
            "1/1 [==============================] - 0s 15ms/step - loss: 6.8606 - mae: 6.8606\n",
            "Epoch 96/100\n",
            "1/1 [==============================] - 0s 15ms/step - loss: 6.8550 - mae: 6.8550\n",
            "Epoch 97/100\n",
            "1/1 [==============================] - 0s 13ms/step - loss: 6.8494 - mae: 6.8494\n",
            "Epoch 98/100\n",
            "1/1 [==============================] - 0s 13ms/step - loss: 6.8438 - mae: 6.8438\n",
            "Epoch 99/100\n",
            "1/1 [==============================] - 0s 16ms/step - loss: 6.8381 - mae: 6.8381\n",
            "Epoch 100/100\n",
            "1/1 [==============================] - 0s 13ms/step - loss: 6.8325 - mae: 6.8325\n"
          ]
        },
        {
          "output_type": "execute_result",
          "data": {
            "text/plain": [
              "<keras.src.callbacks.History at 0x7ab1457ed570>"
            ]
          },
          "metadata": {},
          "execution_count": 137
        }
      ]
    },
    {
      "cell_type": "code",
      "source": [
        "# Remind ourselves of the data\n",
        "X, y"
      ],
      "metadata": {
        "colab": {
          "base_uri": "https://localhost:8080/"
        },
        "id": "GsX6lYTtdGx5",
        "outputId": "f0cb4e61-07b1-4f75-f1da-7d3ce13fcc05"
      },
      "execution_count": 138,
      "outputs": [
        {
          "output_type": "execute_result",
          "data": {
            "text/plain": [
              "(<tf.Tensor: shape=(8,), dtype=float32, numpy=array([-7., -4., -1.,  2.,  5.,  8., 11., 14.], dtype=float32)>,\n",
              " <tf.Tensor: shape=(8,), dtype=float32, numpy=array([ 3.,  6.,  9., 12., 15., 18., 21., 24.], dtype=float32)>)"
            ]
          },
          "metadata": {},
          "execution_count": 138
        }
      ]
    },
    {
      "cell_type": "code",
      "source": [
        "# Let's see if our model's prediction has improved...\n",
        "model.predict([17.0])"
      ],
      "metadata": {
        "colab": {
          "base_uri": "https://localhost:8080/"
        },
        "id": "CXsJaT2FchUa",
        "outputId": "2c9d58a1-52dc-4950-decf-94bba2eb9fbf"
      },
      "execution_count": 139,
      "outputs": [
        {
          "output_type": "stream",
          "name": "stdout",
          "text": [
            "1/1 [==============================] - 0s 136ms/step\n"
          ]
        },
        {
          "output_type": "execute_result",
          "data": {
            "text/plain": [
              "array([[29.35388]], dtype=float32)"
            ]
          },
          "metadata": {},
          "execution_count": 139
        }
      ]
    },
    {
      "cell_type": "code",
      "source": [
        "# # Let's rebuild our model\n",
        "# # 1. Create a model\n",
        "# model = tf.keras.Sequential([\n",
        "#     tf.keras.layers.Dense(100, activation=\"relu\", input_shape=(1,)),\n",
        "#     tf.keras.layers.Dense(1, input_shape=(1,))\n",
        "# ])\n",
        "\n",
        "# # 2. Compile the model\n",
        "# model.compile(loss=tf.keras.losses.mae,\n",
        "#               optimizer=tf.keras.optimizers.Adam(learning_rate=0.01),\n",
        "#               metrics=['mae'])\n",
        "\n",
        "# # 3. Fit the model\n",
        "# model.fit(X, y, epochs=100)"
      ],
      "metadata": {
        "id": "PfkWF0n6cx4l"
      },
      "execution_count": 140,
      "outputs": []
    },
    {
      "cell_type": "code",
      "source": [
        "# y_pred = model.predict([17.0])\n",
        "# y_pred"
      ],
      "metadata": {
        "id": "Gi_29EsomnRg"
      },
      "execution_count": 141,
      "outputs": []
    },
    {
      "cell_type": "code",
      "source": [
        "# # Let's rebuild our model\n",
        "# # 1. Create a model\n",
        "# model = tf.keras.Sequential([\n",
        "#     tf.keras.layers.Dense(100, input_shape=(1,)),\n",
        "#     tf.keras.layers.Dense(1, input_shape=(1,))\n",
        "# ])\n",
        "\n",
        "# # 2. Compile the model\n",
        "# model.compile(loss=tf.keras.losses.mae,\n",
        "#               optimizer=tf.keras.optimizers.Adam(learning_rate=0.007),\n",
        "#               metrics=['mae'])\n",
        "\n",
        "# # 3. Fit the model\n",
        "# model.fit(X, y, epochs=100)"
      ],
      "metadata": {
        "id": "A6Nom4CLm1Oc"
      },
      "execution_count": 142,
      "outputs": []
    },
    {
      "cell_type": "code",
      "source": [
        "# y_pred = model.predict([17.0])\n",
        "# y_pred"
      ],
      "metadata": {
        "id": "kQsc4ABXpQ5T"
      },
      "execution_count": 143,
      "outputs": []
    },
    {
      "cell_type": "code",
      "source": [
        "# model = tf.keras.Sequential([\n",
        "#     tf.keras.layers.Dense(50, input_shape=(1,), activation=\"relu\"),\n",
        "#     tf.keras.layers.Dense(1)\n",
        "# ])\n",
        "\n",
        "# model.compile(loss=\"mae\",\n",
        "#               optimizer=tf.keras.optimizers.Adam(learning_rate=0.01),\n",
        "#               metrics=[\"mae\"])\n",
        "\n",
        "# model.fit(X, y, epochs=100)"
      ],
      "metadata": {
        "id": "iqLsDqN8pV9L"
      },
      "execution_count": 144,
      "outputs": []
    },
    {
      "cell_type": "code",
      "source": [
        "model.predict([17.0])"
      ],
      "metadata": {
        "colab": {
          "base_uri": "https://localhost:8080/"
        },
        "id": "oh2ENqlR2Iaq",
        "outputId": "25d3019c-5e62-4541-a82e-71a2e1837cb9"
      },
      "execution_count": 145,
      "outputs": [
        {
          "output_type": "stream",
          "name": "stdout",
          "text": [
            "1/1 [==============================] - 0s 115ms/step\n"
          ]
        },
        {
          "output_type": "execute_result",
          "data": {
            "text/plain": [
              "array([[29.35388]], dtype=float32)"
            ]
          },
          "metadata": {},
          "execution_count": 145
        }
      ]
    },
    {
      "cell_type": "markdown",
      "source": [
        "# Evaluating a model\n",
        "\n",
        "In practice, a typical workflow you'll go through when building a neural networks is:\n",
        "\n",
        "```\n",
        "Build a model -> fit it -> evaluate it -> tweak a model -> fit it -> evaluate it -> tweak a model -> fit it -> evaluate it....\n",
        "```"
      ],
      "metadata": {
        "id": "H-LSDUg02SVd"
      }
    },
    {
      "cell_type": "markdown",
      "source": [
        "When it comes to evaluation... there are 3 words youshould memorize:\n",
        "\n",
        ">\"Visualize, visualize, visualize\"\n",
        "\n",
        "It's a good idea to visualize:\n",
        "* The data - what data are we working with? What does it look like?\n",
        "* The mode itself - what does our model look like?\n",
        "* The training of a model - how does a model perform while it learns?\n",
        "* The predictions of the model - how do the predictions of a model line up against the ground truth (the original labels)."
      ],
      "metadata": {
        "id": "VmBNNbpd3xji"
      }
    },
    {
      "cell_type": "code",
      "source": [
        "# Make a bigger dataset\n",
        "X = tf.range(-100,100,4)\n",
        "X"
      ],
      "metadata": {
        "colab": {
          "base_uri": "https://localhost:8080/"
        },
        "id": "eUeCvC3e5O19",
        "outputId": "7d685d8a-47e5-40d6-8854-b25c7639537c"
      },
      "execution_count": 146,
      "outputs": [
        {
          "output_type": "execute_result",
          "data": {
            "text/plain": [
              "<tf.Tensor: shape=(50,), dtype=int32, numpy=\n",
              "array([-100,  -96,  -92,  -88,  -84,  -80,  -76,  -72,  -68,  -64,  -60,\n",
              "        -56,  -52,  -48,  -44,  -40,  -36,  -32,  -28,  -24,  -20,  -16,\n",
              "        -12,   -8,   -4,    0,    4,    8,   12,   16,   20,   24,   28,\n",
              "         32,   36,   40,   44,   48,   52,   56,   60,   64,   68,   72,\n",
              "         76,   80,   84,   88,   92,   96], dtype=int32)>"
            ]
          },
          "metadata": {},
          "execution_count": 146
        }
      ]
    },
    {
      "cell_type": "code",
      "source": [
        "# Make labels for the dataset\n",
        "y = X + 10\n",
        "y"
      ],
      "metadata": {
        "colab": {
          "base_uri": "https://localhost:8080/"
        },
        "id": "n-uChMqw6m0n",
        "outputId": "f62af527-5428-48ac-ac74-a9e5d90a0f0a"
      },
      "execution_count": 147,
      "outputs": [
        {
          "output_type": "execute_result",
          "data": {
            "text/plain": [
              "<tf.Tensor: shape=(50,), dtype=int32, numpy=\n",
              "array([-90, -86, -82, -78, -74, -70, -66, -62, -58, -54, -50, -46, -42,\n",
              "       -38, -34, -30, -26, -22, -18, -14, -10,  -6,  -2,   2,   6,  10,\n",
              "        14,  18,  22,  26,  30,  34,  38,  42,  46,  50,  54,  58,  62,\n",
              "        66,  70,  74,  78,  82,  86,  90,  94,  98, 102, 106], dtype=int32)>"
            ]
          },
          "metadata": {},
          "execution_count": 147
        }
      ]
    },
    {
      "cell_type": "code",
      "source": [
        "# Visualize the data\n",
        "plt.scatter(X, y)"
      ],
      "metadata": {
        "colab": {
          "base_uri": "https://localhost:8080/",
          "height": 447
        },
        "id": "i6oUKyTw6uxc",
        "outputId": "62680941-612d-436b-c249-31dd21ea7668"
      },
      "execution_count": 148,
      "outputs": [
        {
          "output_type": "execute_result",
          "data": {
            "text/plain": [
              "<matplotlib.collections.PathCollection at 0x7ab1555f5ba0>"
            ]
          },
          "metadata": {},
          "execution_count": 148
        },
        {
          "output_type": "display_data",
          "data": {
            "text/plain": [
              "<Figure size 640x480 with 1 Axes>"
            ],
            "image/png": "[encoded data removed]"
          },
          "metadata": {}
        }
      ]
    },
    {
      "cell_type": "markdown",
      "source": [
        "### The 3 sets...\n",
        "\n",
        "* **Training set** - the model learns from this data, which is typically 70-80% of the total data you have available.\n",
        "* **Validation set** - the model gets tuned on this data, which is 10-15% of the data available.\n",
        "* **Test set** - the model gets evaluated on this data to test what it has learned, this set is typically 10-15% of the total data available."
      ],
      "metadata": {
        "id": "e0M_0ewF8svm"
      }
    },
    {
      "cell_type": "code",
      "source": [
        "# Check the lrngth of how many samples we have\n",
        "len(X)"
      ],
      "metadata": {
        "colab": {
          "base_uri": "https://localhost:8080/"
        },
        "id": "CThs4beBE4b1",
        "outputId": "9bd88996-b3df-444b-e595-c216e93c49b6"
      },
      "execution_count": 149,
      "outputs": [
        {
          "output_type": "execute_result",
          "data": {
            "text/plain": [
              "50"
            ]
          },
          "metadata": {},
          "execution_count": 149
        }
      ]
    },
    {
      "cell_type": "code",
      "source": [
        "# Split the data into train and test sets\n",
        "X_train = X[:40] # first 40 are the training samples (80% of the data)\n",
        "y_train = y[:40]\n",
        "\n",
        "X_test = X[40:] # last 10 are the testing samples (20% of the data)\n",
        "y_test = y[40:]\n",
        "\n",
        "len(X_train), len(X_test), len(y_train), len(y_test)"
      ],
      "metadata": {
        "colab": {
          "base_uri": "https://localhost:8080/"
        },
        "id": "VIJB7kzRFVrJ",
        "outputId": "5365dc76-0d73-4f9a-c986-70c701cad87c"
      },
      "execution_count": 150,
      "outputs": [
        {
          "output_type": "execute_result",
          "data": {
            "text/plain": [
              "(40, 10, 40, 10)"
            ]
          },
          "metadata": {},
          "execution_count": 150
        }
      ]
    },
    {
      "cell_type": "markdown",
      "source": [
        "# Visualising the data\n",
        "\n",
        "Now we've got our data in the training and test sets... let's visualize it again!"
      ],
      "metadata": {
        "id": "XCClh9X4GV6v"
      }
    },
    {
      "cell_type": "code",
      "source": [
        "plt.figure(figsize=(10,7))\n",
        "#  Plot the training data in blue\n",
        "plt.scatter(X_train, y_train, c='b', label=\"Training data\") # our model will learn on this\n",
        "# Plot test data in green\n",
        "plt.scatter(X_test, y_test, c='g', label=\"Testing data\") #want our model to be able to predict this (given X, what's y?)\n",
        "# Show a legend\n",
        "plt.legend();"
      ],
      "metadata": {
        "colab": {
          "base_uri": "https://localhost:8080/",
          "height": 456
        },
        "id": "WtJrCVRhGO0a",
        "outputId": "8795bc5d-77aa-4e0d-bcc7-6a2b491938b9"
      },
      "execution_count": 151,
      "outputs": [
        {
          "output_type": "display_data",
          "data": {
            "text/plain": [
              "<Figure size 1000x700 with 1 Axes>"
            ],
            "image/png": "[encoded data removed]"
          },
          "metadata": {}
        }
      ]
    },
    {
      "cell_type": "code",
      "source": [
        "# from sklearn.model_selection import train_test_split\n",
        "# X_train, X_test, y_train, y_test = train_test_split(X, y, test_size=0.2, random_state=42)"
      ],
      "metadata": {
        "id": "2wvmh7Dy636R"
      },
      "execution_count": 152,
      "outputs": []
    },
    {
      "cell_type": "code",
      "source": [
        "# 1. Build the model\n",
        "model = tf.keras.Sequential([\n",
        "    tf.keras.layers.Dense(1, input_shape=(1,))\n",
        "])\n",
        "\n",
        "# 2. compiling the model\n",
        "model.compile(loss='mae',\n",
        "              optimizer=tf.keras.optimizers.SGD(),\n",
        "              metrics=['mae'])\n",
        "\n",
        "# 3. Fitting the model\n",
        "model.fit(X_train, y_train, epochs=100)\n"
      ],
      "metadata": {
        "id": "lifXs3a_7w4n",
        "colab": {
          "base_uri": "https://localhost:8080/"
        },
        "outputId": "bcd10b67-d18e-4b57-b0c6-4d6f05f67344"
      },
      "execution_count": 153,
      "outputs": [
        {
          "output_type": "stream",
          "name": "stdout",
          "text": [
            "Epoch 1/100\n",
            "2/2 [==============================] - 0s 9ms/step - loss: 19.6274 - mae: 19.6274\n",
            "Epoch 2/100\n",
            "2/2 [==============================] - 0s 8ms/step - loss: 8.1298 - mae: 8.1298\n",
            "Epoch 3/100\n",
            "2/2 [==============================] - 0s 9ms/step - loss: 10.1829 - mae: 10.1829\n",
            "Epoch 4/100\n",
            "2/2 [==============================] - 0s 9ms/step - loss: 12.5375 - mae: 12.5375\n",
            "Epoch 5/100\n",
            "2/2 [==============================] - 0s 8ms/step - loss: 11.5878 - mae: 11.5878\n",
            "Epoch 6/100\n",
            "2/2 [==============================] - 0s 8ms/step - loss: 10.6889 - mae: 10.6889\n",
            "Epoch 7/100\n",
            "2/2 [==============================] - 0s 8ms/step - loss: 9.0296 - mae: 9.0296\n",
            "Epoch 8/100\n",
            "2/2 [==============================] - 0s 10ms/step - loss: 7.5315 - mae: 7.5315\n",
            "Epoch 9/100\n",
            "2/2 [==============================] - 0s 9ms/step - loss: 7.7186 - mae: 7.7186\n",
            "Epoch 10/100\n",
            "2/2 [==============================] - 0s 8ms/step - loss: 11.7746 - mae: 11.7746\n",
            "Epoch 11/100\n",
            "2/2 [==============================] - 0s 8ms/step - loss: 9.3534 - mae: 9.3534\n",
            "Epoch 12/100\n",
            "2/2 [==============================] - 0s 9ms/step - loss: 12.7653 - mae: 12.7653\n",
            "Epoch 13/100\n",
            "2/2 [==============================] - 0s 13ms/step - loss: 9.7516 - mae: 9.7516\n",
            "Epoch 14/100\n",
            "2/2 [==============================] - 0s 11ms/step - loss: 12.8727 - mae: 12.8727\n",
            "Epoch 15/100\n",
            "2/2 [==============================] - 0s 13ms/step - loss: 10.7032 - mae: 10.7032\n",
            "Epoch 16/100\n",
            "2/2 [==============================] - 0s 9ms/step - loss: 8.5563 - mae: 8.5563\n",
            "Epoch 17/100\n",
            "2/2 [==============================] - 0s 9ms/step - loss: 13.6796 - mae: 13.6796\n",
            "Epoch 18/100\n",
            "2/2 [==============================] - 0s 10ms/step - loss: 11.5202 - mae: 11.5202\n",
            "Epoch 19/100\n",
            "2/2 [==============================] - 0s 9ms/step - loss: 17.8359 - mae: 17.8359\n",
            "Epoch 20/100\n",
            "2/2 [==============================] - 0s 10ms/step - loss: 14.9711 - mae: 14.9711\n",
            "Epoch 21/100\n",
            "2/2 [==============================] - 0s 9ms/step - loss: 10.8483 - mae: 10.8483\n",
            "Epoch 22/100\n",
            "2/2 [==============================] - 0s 9ms/step - loss: 8.5999 - mae: 8.5999\n",
            "Epoch 23/100\n",
            "2/2 [==============================] - 0s 8ms/step - loss: 9.6966 - mae: 9.6966\n",
            "Epoch 24/100\n",
            "2/2 [==============================] - 0s 9ms/step - loss: 10.9627 - mae: 10.9627\n",
            "Epoch 25/100\n",
            "2/2 [==============================] - 0s 10ms/step - loss: 9.1588 - mae: 9.1588\n",
            "Epoch 26/100\n",
            "2/2 [==============================] - 0s 9ms/step - loss: 13.2017 - mae: 13.2017\n",
            "Epoch 27/100\n",
            "2/2 [==============================] - 0s 8ms/step - loss: 10.6680 - mae: 10.6680\n",
            "Epoch 28/100\n",
            "2/2 [==============================] - 0s 9ms/step - loss: 12.8935 - mae: 12.8935\n",
            "Epoch 29/100\n",
            "2/2 [==============================] - 0s 9ms/step - loss: 9.5060 - mae: 9.5060\n",
            "Epoch 30/100\n",
            "2/2 [==============================] - 0s 10ms/step - loss: 16.4271 - mae: 16.4271\n",
            "Epoch 31/100\n",
            "2/2 [==============================] - 0s 9ms/step - loss: 23.5596 - mae: 23.5596\n",
            "Epoch 32/100\n",
            "2/2 [==============================] - 0s 9ms/step - loss: 7.6003 - mae: 7.6003\n",
            "Epoch 33/100\n",
            "2/2 [==============================] - 0s 9ms/step - loss: 9.2967 - mae: 9.2967\n",
            "Epoch 34/100\n",
            "2/2 [==============================] - 0s 10ms/step - loss: 13.6638 - mae: 13.6638\n",
            "Epoch 35/100\n",
            "2/2 [==============================] - 0s 9ms/step - loss: 11.1559 - mae: 11.1559\n",
            "Epoch 36/100\n",
            "2/2 [==============================] - 0s 9ms/step - loss: 13.3872 - mae: 13.3872\n",
            "Epoch 37/100\n",
            "2/2 [==============================] - 0s 9ms/step - loss: 9.4411 - mae: 9.4411\n",
            "Epoch 38/100\n",
            "2/2 [==============================] - 0s 9ms/step - loss: 10.0912 - mae: 10.0912\n",
            "Epoch 39/100\n",
            "2/2 [==============================] - 0s 13ms/step - loss: 8.9679 - mae: 8.9679\n",
            "Epoch 40/100\n",
            "2/2 [==============================] - 0s 8ms/step - loss: 9.5959 - mae: 9.5959\n",
            "Epoch 41/100\n",
            "2/2 [==============================] - 0s 9ms/step - loss: 10.5576 - mae: 10.5576\n",
            "Epoch 42/100\n",
            "2/2 [==============================] - 0s 8ms/step - loss: 10.6113 - mae: 10.6113\n",
            "Epoch 43/100\n",
            "2/2 [==============================] - 0s 9ms/step - loss: 7.2004 - mae: 7.2004\n",
            "Epoch 44/100\n",
            "2/2 [==============================] - 0s 8ms/step - loss: 8.0098 - mae: 8.0098\n",
            "Epoch 45/100\n",
            "2/2 [==============================] - 0s 9ms/step - loss: 9.8121 - mae: 9.8121\n",
            "Epoch 46/100\n",
            "2/2 [==============================] - 0s 9ms/step - loss: 8.8929 - mae: 8.8929\n",
            "Epoch 47/100\n",
            "2/2 [==============================] - 0s 9ms/step - loss: 7.5549 - mae: 7.5549\n",
            "Epoch 48/100\n",
            "2/2 [==============================] - 0s 8ms/step - loss: 8.5189 - mae: 8.5189\n",
            "Epoch 49/100\n",
            "2/2 [==============================] - 0s 8ms/step - loss: 10.0241 - mae: 10.0241\n",
            "Epoch 50/100\n",
            "2/2 [==============================] - 0s 7ms/step - loss: 8.9649 - mae: 8.9649\n",
            "Epoch 51/100\n",
            "2/2 [==============================] - 0s 7ms/step - loss: 10.7016 - mae: 10.7016\n",
            "Epoch 52/100\n",
            "2/2 [==============================] - 0s 7ms/step - loss: 15.2471 - mae: 15.2471\n",
            "Epoch 53/100\n",
            "2/2 [==============================] - 0s 7ms/step - loss: 14.2796 - mae: 14.2796\n",
            "Epoch 54/100\n",
            "2/2 [==============================] - 0s 7ms/step - loss: 21.5281 - mae: 21.5281\n",
            "Epoch 55/100\n",
            "2/2 [==============================] - 0s 7ms/step - loss: 16.0520 - mae: 16.0520\n",
            "Epoch 56/100\n",
            "2/2 [==============================] - 0s 7ms/step - loss: 10.2308 - mae: 10.2308\n",
            "Epoch 57/100\n",
            "2/2 [==============================] - 0s 7ms/step - loss: 9.7888 - mae: 9.7888\n",
            "Epoch 58/100\n",
            "2/2 [==============================] - 0s 7ms/step - loss: 9.0701 - mae: 9.0701\n",
            "Epoch 59/100\n",
            "2/2 [==============================] - 0s 7ms/step - loss: 8.2759 - mae: 8.2759\n",
            "Epoch 60/100\n",
            "2/2 [==============================] - 0s 8ms/step - loss: 9.3663 - mae: 9.3663\n",
            "Epoch 61/100\n",
            "2/2 [==============================] - 0s 7ms/step - loss: 11.1977 - mae: 11.1977\n",
            "Epoch 62/100\n",
            "2/2 [==============================] - 0s 7ms/step - loss: 12.0170 - mae: 12.0170\n",
            "Epoch 63/100\n",
            "2/2 [==============================] - 0s 7ms/step - loss: 7.2633 - mae: 7.2633\n",
            "Epoch 64/100\n",
            "2/2 [==============================] - 0s 7ms/step - loss: 12.4632 - mae: 12.4632\n",
            "Epoch 65/100\n",
            "2/2 [==============================] - 0s 7ms/step - loss: 10.5336 - mae: 10.5336\n",
            "Epoch 66/100\n",
            "2/2 [==============================] - 0s 7ms/step - loss: 15.5500 - mae: 15.5500\n",
            "Epoch 67/100\n",
            "2/2 [==============================] - 0s 9ms/step - loss: 9.9644 - mae: 9.9644\n",
            "Epoch 68/100\n",
            "2/2 [==============================] - 0s 7ms/step - loss: 8.6955 - mae: 8.6955\n",
            "Epoch 69/100\n",
            "2/2 [==============================] - 0s 8ms/step - loss: 13.4250 - mae: 13.4250\n",
            "Epoch 70/100\n",
            "2/2 [==============================] - 0s 7ms/step - loss: 7.4581 - mae: 7.4581\n",
            "Epoch 71/100\n",
            "2/2 [==============================] - 0s 7ms/step - loss: 12.2604 - mae: 12.2604\n",
            "Epoch 72/100\n",
            "2/2 [==============================] - 0s 7ms/step - loss: 8.4935 - mae: 8.4935\n",
            "Epoch 73/100\n",
            "2/2 [==============================] - 0s 7ms/step - loss: 7.0249 - mae: 7.0249\n",
            "Epoch 74/100\n",
            "2/2 [==============================] - 0s 8ms/step - loss: 9.8687 - mae: 9.8687\n",
            "Epoch 75/100\n",
            "2/2 [==============================] - 0s 10ms/step - loss: 9.9570 - mae: 9.9570\n",
            "Epoch 76/100\n",
            "2/2 [==============================] - 0s 10ms/step - loss: 10.1158 - mae: 10.1158\n",
            "Epoch 77/100\n",
            "2/2 [==============================] - 0s 7ms/step - loss: 12.9970 - mae: 12.9970\n",
            "Epoch 78/100\n",
            "2/2 [==============================] - 0s 7ms/step - loss: 10.8781 - mae: 10.8781\n",
            "Epoch 79/100\n",
            "2/2 [==============================] - 0s 7ms/step - loss: 15.3490 - mae: 15.3490\n",
            "Epoch 80/100\n",
            "2/2 [==============================] - 0s 7ms/step - loss: 11.7321 - mae: 11.7321\n",
            "Epoch 81/100\n",
            "2/2 [==============================] - 0s 7ms/step - loss: 9.2215 - mae: 9.2215\n",
            "Epoch 82/100\n",
            "2/2 [==============================] - 0s 7ms/step - loss: 12.8276 - mae: 12.8276\n",
            "Epoch 83/100\n",
            "2/2 [==============================] - 0s 7ms/step - loss: 10.2797 - mae: 10.2797\n",
            "Epoch 84/100\n",
            "2/2 [==============================] - 0s 7ms/step - loss: 10.5962 - mae: 10.5962\n",
            "Epoch 85/100\n",
            "2/2 [==============================] - 0s 7ms/step - loss: 9.3060 - mae: 9.3060\n",
            "Epoch 86/100\n",
            "2/2 [==============================] - 0s 7ms/step - loss: 9.1558 - mae: 9.1558\n",
            "Epoch 87/100\n",
            "2/2 [==============================] - 0s 7ms/step - loss: 11.8888 - mae: 11.8888\n",
            "Epoch 88/100\n",
            "2/2 [==============================] - 0s 7ms/step - loss: 10.4986 - mae: 10.4986\n",
            "Epoch 89/100\n",
            "2/2 [==============================] - 0s 7ms/step - loss: 7.2285 - mae: 7.2285\n",
            "Epoch 90/100\n",
            "2/2 [==============================] - 0s 7ms/step - loss: 12.6249 - mae: 12.6249\n",
            "Epoch 91/100\n",
            "2/2 [==============================] - 0s 7ms/step - loss: 7.2723 - mae: 7.2723\n",
            "Epoch 92/100\n",
            "2/2 [==============================] - 0s 8ms/step - loss: 7.6308 - mae: 7.6308\n",
            "Epoch 93/100\n",
            "2/2 [==============================] - 0s 15ms/step - loss: 7.0983 - mae: 7.0983\n",
            "Epoch 94/100\n",
            "2/2 [==============================] - 0s 8ms/step - loss: 12.4777 - mae: 12.4777\n",
            "Epoch 95/100\n",
            "2/2 [==============================] - 0s 7ms/step - loss: 9.8528 - mae: 9.8528\n",
            "Epoch 96/100\n",
            "2/2 [==============================] - 0s 7ms/step - loss: 9.1419 - mae: 9.1419\n",
            "Epoch 97/100\n",
            "2/2 [==============================] - 0s 8ms/step - loss: 12.1221 - mae: 12.1221\n",
            "Epoch 98/100\n",
            "2/2 [==============================] - 0s 7ms/step - loss: 9.0002 - mae: 9.0002\n",
            "Epoch 99/100\n",
            "2/2 [==============================] - 0s 7ms/step - loss: 8.4927 - mae: 8.4927\n",
            "Epoch 100/100\n",
            "2/2 [==============================] - 0s 7ms/step - loss: 14.5220 - mae: 14.5220\n"
          ]
        },
        {
          "output_type": "execute_result",
          "data": {
            "text/plain": [
              "<keras.src.callbacks.History at 0x7ab13d7776d0>"
            ]
          },
          "metadata": {},
          "execution_count": 153
        }
      ]
    },
    {
      "cell_type": "code",
      "source": [
        "y_pred = model.predict(X_test)"
      ],
      "metadata": {
        "colab": {
          "base_uri": "https://localhost:8080/"
        },
        "id": "d-WxPWVsKM1T",
        "outputId": "51bc6054-da79-45a2-bb59-aed08df68c0c"
      },
      "execution_count": 154,
      "outputs": [
        {
          "output_type": "stream",
          "name": "stdout",
          "text": [
            "1/1 [==============================] - 0s 53ms/step\n"
          ]
        }
      ]
    },
    {
      "cell_type": "code",
      "source": [
        "model.summary()"
      ],
      "metadata": {
        "colab": {
          "base_uri": "https://localhost:8080/"
        },
        "id": "hDgG15ZFOcEJ",
        "outputId": "d857127d-e17d-4506-c124-6c8e0a9fd599"
      },
      "execution_count": 155,
      "outputs": [
        {
          "output_type": "stream",
          "name": "stdout",
          "text": [
            "Model: \"sequential_23\"\n",
            "_________________________________________________________________\n",
            " Layer (type)                Output Shape              Param #   \n",
            "=================================================================\n",
            " dense_30 (Dense)            (None, 1)                 2         \n",
            "                                                                 \n",
            "=================================================================\n",
            "Total params: 2 (8.00 Byte)\n",
            "Trainable params: 2 (8.00 Byte)\n",
            "Non-trainable params: 0 (0.00 Byte)\n",
            "_________________________________________________________________\n"
          ]
        }
      ]
    },
    {
      "cell_type": "code",
      "source": [
        "plt.figure(figsize=(10,7))\n",
        "plt.scatter(X_train, y_train, c='b', label='Train data')\n",
        "plt.scatter(X_test, y_test, c='g', label='Test data')\n",
        "plt.scatter(X_test, y_pred, c='r', label='Predicted')\n",
        "plt.legend();"
      ],
      "metadata": {
        "colab": {
          "base_uri": "https://localhost:8080/",
          "height": 456
        },
        "id": "4kGzAvK9Ke9W",
        "outputId": "dcd22710-0cbe-4b61-c977-48b0b3880400"
      },
      "execution_count": 156,
      "outputs": [
        {
          "output_type": "display_data",
          "data": {
            "text/plain": [
              "<Figure size 1000x700 with 1 Axes>"
            ],
            "image/png": "[encoded data removed]"
          },
          "metadata": {}
        }
      ]
    },
    {
      "cell_type": "code",
      "source": [
        "X[0], y[0]"
      ],
      "metadata": {
        "colab": {
          "base_uri": "https://localhost:8080/"
        },
        "id": "OtNnJW6hPKqS",
        "outputId": "8876d76a-848f-4e49-d9b0-c22e73215c22"
      },
      "execution_count": 157,
      "outputs": [
        {
          "output_type": "execute_result",
          "data": {
            "text/plain": [
              "(<tf.Tensor: shape=(), dtype=int32, numpy=-100>,\n",
              " <tf.Tensor: shape=(), dtype=int32, numpy=-90>)"
            ]
          },
          "metadata": {},
          "execution_count": 157
        }
      ]
    },
    {
      "cell_type": "code",
      "source": [
        "# Let's make a model which builds automatically by defining the input_shape argument in the first layer\n",
        "tf.random.set_seed(42)\n",
        "# 1. Build the model\n",
        "model = tf.keras.Sequential([\n",
        "    tf.keras.layers.Dense(10, input_shape=(1,), name=\"input_layer\",activation=\"relu\"),\n",
        "    tf.keras.layers.Dense(5, activation=\"relu\", name=\"hidden_layer\"),\n",
        "    tf.keras.layers.Dense(1, name=\"output_layer\")\n",
        "], name = \"model_1\")\n",
        "\n",
        "# 2. compiling the model\n",
        "model.compile(loss='mae',\n",
        "              optimizer=tf.keras.optimizers.Adam(learning_rate=0.01),\n",
        "              metrics=['mae'])\n",
        "\n"
      ],
      "metadata": {
        "id": "W6V4JPaeLcvp"
      },
      "execution_count": 208,
      "outputs": []
    },
    {
      "cell_type": "code",
      "source": [
        "model.summary()"
      ],
      "metadata": {
        "colab": {
          "base_uri": "https://localhost:8080/"
        },
        "id": "XntThRTKLgux",
        "outputId": "f598e5a1-6697-479c-8e73-9c3a7239503b"
      },
      "execution_count": 209,
      "outputs": [
        {
          "output_type": "stream",
          "name": "stdout",
          "text": [
            "Model: \"model_1\"\n",
            "_________________________________________________________________\n",
            " Layer (type)                Output Shape              Param #   \n",
            "=================================================================\n",
            " input_layer (Dense)         (None, 10)                20        \n",
            "                                                                 \n",
            " hidden_layer (Dense)        (None, 5)                 55        \n",
            "                                                                 \n",
            " output_layer (Dense)        (None, 1)                 6         \n",
            "                                                                 \n",
            "=================================================================\n",
            "Total params: 81 (324.00 Byte)\n",
            "Trainable params: 81 (324.00 Byte)\n",
            "Non-trainable params: 0 (0.00 Byte)\n",
            "_________________________________________________________________\n"
          ]
        }
      ]
    },
    {
      "cell_type": "markdown",
      "source": [
        "* Total params - total number of parameters in the model.\n",
        "* Total Trainable params - these are the parameters (patterns) the model can update as it trains.\n",
        "* Non-trainable params - these parameters aren't updated during training (this is typical when you bring in already learn patterns or parameters fom othe models during **transfer learning**).\n",
        "\n",
        "📖 **Resource:** For a more in-depth overiew of the trainable parameters within a layer, check our [MIT's introduction to Deep Learning](https://www.youtube.com/watch?v=QDX-1M5Nj7s).\n",
        "\n",
        "⚒ **Exercise:** Try playing around the number of hidden units in dense layer, see how that effects the number of parameters (total and trainable) by calling `model.summary()`."
      ],
      "metadata": {
        "id": "V4irHQRTPgLv"
      }
    },
    {
      "cell_type": "code",
      "source": [
        "# Let's fit our model to the training data\n",
        "model.fit(X_train, y_train, epochs=100)"
      ],
      "metadata": {
        "colab": {
          "base_uri": "https://localhost:8080/"
        },
        "id": "0z-W8eVNXOxA",
        "outputId": "2b912a30-98b2-4399-b2f7-549d969de987"
      },
      "execution_count": 210,
      "outputs": [
        {
          "output_type": "stream",
          "name": "stdout",
          "text": [
            "Epoch 1/100\n",
            "2/2 [==============================] - 1s 13ms/step - loss: 38.0713 - mae: 38.0713\n",
            "Epoch 2/100\n",
            "2/2 [==============================] - 0s 8ms/step - loss: 31.8778 - mae: 31.8778\n",
            "Epoch 3/100\n",
            "2/2 [==============================] - 0s 7ms/step - loss: 27.4162 - mae: 27.4162\n",
            "Epoch 4/100\n",
            "2/2 [==============================] - 0s 7ms/step - loss: 22.7689 - mae: 22.7689\n",
            "Epoch 5/100\n",
            "2/2 [==============================] - 0s 7ms/step - loss: 18.2452 - mae: 18.2452\n",
            "Epoch 6/100\n",
            "2/2 [==============================] - 0s 8ms/step - loss: 14.0338 - mae: 14.0338\n",
            "Epoch 7/100\n",
            "2/2 [==============================] - 0s 7ms/step - loss: 12.1145 - mae: 12.1145\n",
            "Epoch 8/100\n",
            "2/2 [==============================] - 0s 7ms/step - loss: 13.0992 - mae: 13.0992\n",
            "Epoch 9/100\n",
            "2/2 [==============================] - 0s 7ms/step - loss: 11.7312 - mae: 11.7312\n",
            "Epoch 10/100\n",
            "2/2 [==============================] - 0s 7ms/step - loss: 9.5335 - mae: 9.5335\n",
            "Epoch 11/100\n",
            "2/2 [==============================] - 0s 8ms/step - loss: 8.7667 - mae: 8.7667\n",
            "Epoch 12/100\n",
            "2/2 [==============================] - 0s 10ms/step - loss: 7.9558 - mae: 7.9558\n",
            "Epoch 13/100\n",
            "2/2 [==============================] - 0s 12ms/step - loss: 6.7015 - mae: 6.7015\n",
            "Epoch 14/100\n",
            "2/2 [==============================] - 0s 12ms/step - loss: 4.9885 - mae: 4.9885\n",
            "Epoch 15/100\n",
            "2/2 [==============================] - 0s 9ms/step - loss: 3.8562 - mae: 3.8562\n",
            "Epoch 16/100\n",
            "2/2 [==============================] - 0s 8ms/step - loss: 4.5730 - mae: 4.5730\n",
            "Epoch 17/100\n",
            "2/2 [==============================] - 0s 9ms/step - loss: 4.8711 - mae: 4.8711\n",
            "Epoch 18/100\n",
            "2/2 [==============================] - 0s 8ms/step - loss: 5.0901 - mae: 5.0901\n",
            "Epoch 19/100\n",
            "2/2 [==============================] - 0s 8ms/step - loss: 5.0004 - mae: 5.0004\n",
            "Epoch 20/100\n",
            "2/2 [==============================] - 0s 8ms/step - loss: 4.4199 - mae: 4.4199\n",
            "Epoch 21/100\n",
            "2/2 [==============================] - 0s 9ms/step - loss: 4.0777 - mae: 4.0777\n",
            "Epoch 22/100\n",
            "2/2 [==============================] - 0s 7ms/step - loss: 3.9811 - mae: 3.9811\n",
            "Epoch 23/100\n",
            "2/2 [==============================] - 0s 8ms/step - loss: 3.5775 - mae: 3.5775\n",
            "Epoch 24/100\n",
            "2/2 [==============================] - 0s 7ms/step - loss: 3.6629 - mae: 3.6629\n",
            "Epoch 25/100\n",
            "2/2 [==============================] - 0s 7ms/step - loss: 3.6948 - mae: 3.6948\n",
            "Epoch 26/100\n",
            "2/2 [==============================] - 0s 8ms/step - loss: 3.6696 - mae: 3.6696\n",
            "Epoch 27/100\n",
            "2/2 [==============================] - 0s 7ms/step - loss: 3.5164 - mae: 3.5164\n",
            "Epoch 28/100\n",
            "2/2 [==============================] - 0s 8ms/step - loss: 3.4188 - mae: 3.4188\n",
            "Epoch 29/100\n",
            "2/2 [==============================] - 0s 8ms/step - loss: 3.4255 - mae: 3.4255\n",
            "Epoch 30/100\n",
            "2/2 [==============================] - 0s 7ms/step - loss: 3.4423 - mae: 3.4423\n",
            "Epoch 31/100\n",
            "2/2 [==============================] - 0s 7ms/step - loss: 3.5096 - mae: 3.5096\n",
            "Epoch 32/100\n",
            "2/2 [==============================] - 0s 7ms/step - loss: 3.7551 - mae: 3.7551\n",
            "Epoch 33/100\n",
            "2/2 [==============================] - 0s 7ms/step - loss: 3.3072 - mae: 3.3072\n",
            "Epoch 34/100\n",
            "2/2 [==============================] - 0s 7ms/step - loss: 3.2547 - mae: 3.2547\n",
            "Epoch 35/100\n",
            "2/2 [==============================] - 0s 8ms/step - loss: 3.2464 - mae: 3.2464\n",
            "Epoch 36/100\n",
            "2/2 [==============================] - 0s 7ms/step - loss: 3.1788 - mae: 3.1788\n",
            "Epoch 37/100\n",
            "2/2 [==============================] - 0s 7ms/step - loss: 3.1081 - mae: 3.1081\n",
            "Epoch 38/100\n",
            "2/2 [==============================] - 0s 7ms/step - loss: 3.0508 - mae: 3.0508\n",
            "Epoch 39/100\n",
            "2/2 [==============================] - 0s 7ms/step - loss: 3.0161 - mae: 3.0161\n",
            "Epoch 40/100\n",
            "2/2 [==============================] - 0s 7ms/step - loss: 2.9721 - mae: 2.9721\n",
            "Epoch 41/100\n",
            "2/2 [==============================] - 0s 7ms/step - loss: 2.9551 - mae: 2.9551\n",
            "Epoch 42/100\n",
            "2/2 [==============================] - 0s 7ms/step - loss: 2.9176 - mae: 2.9176\n",
            "Epoch 43/100\n",
            "2/2 [==============================] - 0s 7ms/step - loss: 2.8557 - mae: 2.8557\n",
            "Epoch 44/100\n",
            "2/2 [==============================] - 0s 8ms/step - loss: 2.8183 - mae: 2.8183\n",
            "Epoch 45/100\n",
            "2/2 [==============================] - 0s 7ms/step - loss: 2.8528 - mae: 2.8528\n",
            "Epoch 46/100\n",
            "2/2 [==============================] - 0s 8ms/step - loss: 2.9435 - mae: 2.9435\n",
            "Epoch 47/100\n",
            "2/2 [==============================] - 0s 8ms/step - loss: 2.8041 - mae: 2.8041\n",
            "Epoch 48/100\n",
            "2/2 [==============================] - 0s 7ms/step - loss: 2.7087 - mae: 2.7087\n",
            "Epoch 49/100\n",
            "2/2 [==============================] - 0s 9ms/step - loss: 2.7408 - mae: 2.7408\n",
            "Epoch 50/100\n",
            "2/2 [==============================] - 0s 10ms/step - loss: 2.5957 - mae: 2.5957\n",
            "Epoch 51/100\n",
            "2/2 [==============================] - 0s 9ms/step - loss: 3.1134 - mae: 3.1134\n",
            "Epoch 52/100\n",
            "2/2 [==============================] - 0s 7ms/step - loss: 2.9286 - mae: 2.9286\n",
            "Epoch 53/100\n",
            "2/2 [==============================] - 0s 6ms/step - loss: 2.4911 - mae: 2.4911\n",
            "Epoch 54/100\n",
            "2/2 [==============================] - 0s 14ms/step - loss: 2.5113 - mae: 2.5113\n",
            "Epoch 55/100\n",
            "2/2 [==============================] - 0s 10ms/step - loss: 2.3908 - mae: 2.3908\n",
            "Epoch 56/100\n",
            "2/2 [==============================] - 0s 9ms/step - loss: 2.3630 - mae: 2.3630\n",
            "Epoch 57/100\n",
            "2/2 [==============================] - 0s 8ms/step - loss: 2.3560 - mae: 2.3560\n",
            "Epoch 58/100\n",
            "2/2 [==============================] - 0s 9ms/step - loss: 2.4525 - mae: 2.4525\n",
            "Epoch 59/100\n",
            "2/2 [==============================] - 0s 9ms/step - loss: 2.2073 - mae: 2.2073\n",
            "Epoch 60/100\n",
            "2/2 [==============================] - 0s 10ms/step - loss: 2.4708 - mae: 2.4708\n",
            "Epoch 61/100\n",
            "2/2 [==============================] - 0s 10ms/step - loss: 2.4159 - mae: 2.4159\n",
            "Epoch 62/100\n",
            "2/2 [==============================] - 0s 7ms/step - loss: 2.2003 - mae: 2.2003\n",
            "Epoch 63/100\n",
            "2/2 [==============================] - 0s 7ms/step - loss: 2.3395 - mae: 2.3395\n",
            "Epoch 64/100\n",
            "2/2 [==============================] - 0s 8ms/step - loss: 2.3046 - mae: 2.3046\n",
            "Epoch 65/100\n",
            "2/2 [==============================] - 0s 7ms/step - loss: 2.7907 - mae: 2.7907\n",
            "Epoch 66/100\n",
            "2/2 [==============================] - 0s 7ms/step - loss: 2.2322 - mae: 2.2322\n",
            "Epoch 67/100\n",
            "2/2 [==============================] - 0s 7ms/step - loss: 2.0613 - mae: 2.0613\n",
            "Epoch 68/100\n",
            "2/2 [==============================] - 0s 7ms/step - loss: 2.0153 - mae: 2.0153\n",
            "Epoch 69/100\n",
            "2/2 [==============================] - 0s 7ms/step - loss: 1.9014 - mae: 1.9014\n",
            "Epoch 70/100\n",
            "2/2 [==============================] - 0s 7ms/step - loss: 1.8338 - mae: 1.8338\n",
            "Epoch 71/100\n",
            "2/2 [==============================] - 0s 7ms/step - loss: 1.7105 - mae: 1.7105\n",
            "Epoch 72/100\n",
            "2/2 [==============================] - 0s 7ms/step - loss: 1.9461 - mae: 1.9461\n",
            "Epoch 73/100\n",
            "2/2 [==============================] - 0s 10ms/step - loss: 1.7422 - mae: 1.7422\n",
            "Epoch 74/100\n",
            "2/2 [==============================] - 0s 7ms/step - loss: 1.7047 - mae: 1.7047\n",
            "Epoch 75/100\n",
            "2/2 [==============================] - 0s 8ms/step - loss: 1.6061 - mae: 1.6061\n",
            "Epoch 76/100\n",
            "2/2 [==============================] - 0s 7ms/step - loss: 1.7051 - mae: 1.7051\n",
            "Epoch 77/100\n",
            "2/2 [==============================] - 0s 8ms/step - loss: 1.7123 - mae: 1.7123\n",
            "Epoch 78/100\n",
            "2/2 [==============================] - 0s 8ms/step - loss: 1.4486 - mae: 1.4486\n",
            "Epoch 79/100\n",
            "2/2 [==============================] - 0s 8ms/step - loss: 1.4570 - mae: 1.4570\n",
            "Epoch 80/100\n",
            "2/2 [==============================] - 0s 8ms/step - loss: 1.3594 - mae: 1.3594\n",
            "Epoch 81/100\n",
            "2/2 [==============================] - 0s 8ms/step - loss: 1.3272 - mae: 1.3272\n",
            "Epoch 82/100\n",
            "2/2 [==============================] - 0s 7ms/step - loss: 1.2840 - mae: 1.2840\n",
            "Epoch 83/100\n",
            "2/2 [==============================] - 0s 7ms/step - loss: 1.2106 - mae: 1.2106\n",
            "Epoch 84/100\n",
            "2/2 [==============================] - 0s 7ms/step - loss: 1.3540 - mae: 1.3540\n",
            "Epoch 85/100\n",
            "2/2 [==============================] - 0s 7ms/step - loss: 1.2707 - mae: 1.2707\n",
            "Epoch 86/100\n",
            "2/2 [==============================] - 0s 7ms/step - loss: 1.1419 - mae: 1.1419\n",
            "Epoch 87/100\n",
            "2/2 [==============================] - 0s 7ms/step - loss: 1.0772 - mae: 1.0772\n",
            "Epoch 88/100\n",
            "2/2 [==============================] - 0s 7ms/step - loss: 1.0811 - mae: 1.0811\n",
            "Epoch 89/100\n",
            "2/2 [==============================] - 0s 7ms/step - loss: 1.0680 - mae: 1.0680\n",
            "Epoch 90/100\n",
            "2/2 [==============================] - 0s 7ms/step - loss: 1.2805 - mae: 1.2805\n",
            "Epoch 91/100\n",
            "2/2 [==============================] - 0s 9ms/step - loss: 1.1582 - mae: 1.1582\n",
            "Epoch 92/100\n",
            "2/2 [==============================] - 0s 7ms/step - loss: 0.8955 - mae: 0.8955\n",
            "Epoch 93/100\n",
            "2/2 [==============================] - 0s 7ms/step - loss: 1.2373 - mae: 1.2373\n",
            "Epoch 94/100\n",
            "2/2 [==============================] - 0s 10ms/step - loss: 1.1993 - mae: 1.1993\n",
            "Epoch 95/100\n",
            "2/2 [==============================] - 0s 8ms/step - loss: 0.7025 - mae: 0.7025\n",
            "Epoch 96/100\n",
            "2/2 [==============================] - 0s 8ms/step - loss: 1.2737 - mae: 1.2737\n",
            "Epoch 97/100\n",
            "2/2 [==============================] - 0s 9ms/step - loss: 0.7605 - mae: 0.7605\n",
            "Epoch 98/100\n",
            "2/2 [==============================] - 0s 7ms/step - loss: 0.5419 - mae: 0.5419\n",
            "Epoch 99/100\n",
            "2/2 [==============================] - 0s 11ms/step - loss: 0.5824 - mae: 0.5824\n",
            "Epoch 100/100\n",
            "2/2 [==============================] - 0s 8ms/step - loss: 0.4751 - mae: 0.4751\n"
          ]
        },
        {
          "output_type": "execute_result",
          "data": {
            "text/plain": [
              "<keras.src.callbacks.History at 0x7ab13d6f5cf0>"
            ]
          },
          "metadata": {},
          "execution_count": 210
        }
      ]
    },
    {
      "cell_type": "code",
      "source": [
        "model.predict(X_test)"
      ],
      "metadata": {
        "colab": {
          "base_uri": "https://localhost:8080/"
        },
        "id": "JshGIWqVmG8P",
        "outputId": "b1262d86-6e1b-4ff3-bcbb-291a083f3a25"
      },
      "execution_count": 211,
      "outputs": [
        {
          "output_type": "stream",
          "name": "stdout",
          "text": [
            "1/1 [==============================] - 0s 58ms/step\n"
          ]
        },
        {
          "output_type": "execute_result",
          "data": {
            "text/plain": [
              "array([[ 72.02674 ],\n",
              "       [ 76.20389 ],\n",
              "       [ 80.38103 ],\n",
              "       [ 84.558174],\n",
              "       [ 88.735306],\n",
              "       [ 92.912445],\n",
              "       [ 97.08959 ],\n",
              "       [101.26673 ],\n",
              "       [105.44388 ],\n",
              "       [109.62102 ]], dtype=float32)"
            ]
          },
          "metadata": {},
          "execution_count": 211
        }
      ]
    },
    {
      "cell_type": "code",
      "source": [
        "plt.figure(figsize=(10,7))\n",
        "plt.scatter(X_train, y_train, c='b', label='Train data')\n",
        "plt.scatter(X_test, y_test, c='g', label='Test data')\n",
        "plt.scatter(X_test, y_pred, c='r', label='Predicted')\n",
        "plt.legend();"
      ],
      "metadata": {
        "colab": {
          "base_uri": "https://localhost:8080/",
          "height": 456
        },
        "id": "llM7gc5mmZZO",
        "outputId": "ac1e91ec-ef11-477a-fa80-36fad2702f1e"
      },
      "execution_count": 212,
      "outputs": [
        {
          "output_type": "display_data",
          "data": {
            "text/plain": [
              "<Figure size 1000x700 with 1 Axes>"
            ],
            "image/png": "[encoded data removed]"
          },
          "metadata": {}
        }
      ]
    },
    {
      "cell_type": "code",
      "source": [
        "from tensorflow.keras.utils import plot_model\n",
        "\n",
        "plot_model(model, show_shapes=True)"
      ],
      "metadata": {
        "colab": {
          "base_uri": "https://localhost:8080/",
          "height": 422
        },
        "id": "EtSp9otUmd07",
        "outputId": "89f93ba7-cead-42c8-bdf8-e03c1fa04b7f"
      },
      "execution_count": 213,
      "outputs": [
        {
          "output_type": "execute_result",
          "data": {
            "image/png": "[encoded data removed]",
            "text/plain": [
              "<IPython.core.display.Image object>"
            ]
          },
          "metadata": {},
          "execution_count": 213
        }
      ]
    },
    {
      "cell_type": "markdown",
      "source": [
        "### Visualizing our model's predictions"
      ],
      "metadata": {
        "id": "ymEIRrbWnqma"
      }
    },
    {
      "cell_type": "code",
      "source": [],
      "metadata": {
        "id": "uduGoycfpGpc"
      },
      "execution_count": null,
      "outputs": []
    }
  ]
}